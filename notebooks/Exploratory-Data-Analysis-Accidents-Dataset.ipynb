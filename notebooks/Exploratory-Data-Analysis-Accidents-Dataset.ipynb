{
 "cells": [
  {
   "cell_type": "markdown",
   "metadata": {},
   "source": [
    "# Exploratory Data Analysis - Accidents Dataset\n",
    "\n",
    "by [Johnny Chan](https://github.com/Atlas7) | [GitHub Repo](https://github.com/Atlas7/visualize-traffic-accidents-in-uk) | [MIT Licence](https://github.com/Atlas7/visualize-traffic-accidents-in-uk/blob/master/LICENSE)"
   ]
  },
  {
   "cell_type": "markdown",
   "metadata": {},
   "source": [
    "Here contains some code snippets for enabling quick Exploratory Data Analysis. Feel free to play around."
   ]
  },
  {
   "cell_type": "code",
   "execution_count": 1,
   "metadata": {},
   "outputs": [],
   "source": [
    "import pandas as pd\n",
    "import numpy as np\n",
    "import matplotlib.pyplot as plt"
   ]
  },
  {
   "cell_type": "code",
   "execution_count": 2,
   "metadata": {},
   "outputs": [
    {
     "name": "stdout",
     "output_type": "stream",
     "text": [
      "CPU times: user 2.72 s, sys: 200 ms, total: 2.92 s\n",
      "Wall time: 2.91 s\n"
     ]
    },
    {
     "name": "stderr",
     "output_type": "stream",
     "text": [
      "<string>:2: DtypeWarning: Columns (31) have mixed types. Specify dtype option on import or set low_memory=False.\n"
     ]
    }
   ],
   "source": [
    "%%time\n",
    "df = pd.read_csv('../input/accidents_2005_to_2007.csv')"
   ]
  },
  {
   "cell_type": "markdown",
   "metadata": {},
   "source": [
    "Note this warning:\n",
    "\n",
    "```\n",
    "<string>:2: DtypeWarning: Columns (31) have mixed types. Specify dtype option on import or set low_memory=False.\n",
    "```\n",
    "\n",
    "We will come back to this later."
   ]
  },
  {
   "cell_type": "code",
   "execution_count": 3,
   "metadata": {
    "scrolled": true
   },
   "outputs": [
    {
     "data": {
      "text/plain": [
       "'LSOA_of_Accident_Location'"
      ]
     },
     "execution_count": 3,
     "metadata": {},
     "output_type": "execute_result"
    }
   ],
   "source": [
    "# column 31 corresponds to column \"LSOA_of_Accident_Location\"\n",
    "df.columns[31]"
   ]
  },
  {
   "cell_type": "code",
   "execution_count": 4,
   "metadata": {
    "scrolled": true
   },
   "outputs": [
    {
     "data": {
      "text/plain": [
       "E01000004    892\n",
       "E01011365    610\n",
       "E01005131    430\n",
       "E01008440    427\n",
       "E01004764    415\n",
       "Name: LSOA_of_Accident_Location, dtype: int64"
      ]
     },
     "execution_count": 4,
     "metadata": {},
     "output_type": "execute_result"
    }
   ],
   "source": [
    "# Take a peek at some values in column 31 - likely string type\n",
    "df.iloc[:, 31].value_counts().head()"
   ]
  },
  {
   "cell_type": "code",
   "execution_count": 5,
   "metadata": {},
   "outputs": [
    {
     "name": "stdout",
     "output_type": "stream",
     "text": [
      "<class 'pandas.core.frame.DataFrame'>\n",
      "RangeIndex: 570011 entries, 0 to 570010\n",
      "Data columns (total 33 columns):\n",
      "Accident_Index                                 570011 non-null object\n",
      "Location_Easting_OSGR                          569910 non-null float64\n",
      "Location_Northing_OSGR                         569910 non-null float64\n",
      "Longitude                                      569910 non-null float64\n",
      "Latitude                                       569910 non-null float64\n",
      "Police_Force                                   570011 non-null int64\n",
      "Accident_Severity                              570011 non-null int64\n",
      "Number_of_Vehicles                             570011 non-null int64\n",
      "Number_of_Casualties                           570011 non-null int64\n",
      "Date                                           570011 non-null object\n",
      "Day_of_Week                                    570011 non-null int64\n",
      "Time                                           569944 non-null object\n",
      "Local_Authority_(District)                     570011 non-null int64\n",
      "Local_Authority_(Highway)                      570011 non-null object\n",
      "1st_Road_Class                                 570011 non-null int64\n",
      "1st_Road_Number                                570011 non-null int64\n",
      "Road_Type                                      570011 non-null object\n",
      "Speed_limit                                    570011 non-null int64\n",
      "Junction_Detail                                0 non-null float64\n",
      "Junction_Control                               333066 non-null object\n",
      "2nd_Road_Class                                 570011 non-null int64\n",
      "2nd_Road_Number                                570011 non-null int64\n",
      "Pedestrian_Crossing-Human_Control              569994 non-null object\n",
      "Pedestrian_Crossing-Physical_Facilities        569977 non-null object\n",
      "Light_Conditions                               570011 non-null object\n",
      "Weather_Conditions                             569991 non-null object\n",
      "Road_Surface_Conditions                        569349 non-null object\n",
      "Special_Conditions_at_Site                     570000 non-null object\n",
      "Carriageway_Hazards                            569988 non-null object\n",
      "Urban_or_Rural_Area                            570011 non-null int64\n",
      "Did_Police_Officer_Attend_Scene_of_Accident    567636 non-null object\n",
      "LSOA_of_Accident_Location                      522500 non-null object\n",
      "Year                                           570011 non-null int64\n",
      "dtypes: float64(5), int64(13), object(15)\n",
      "memory usage: 143.5+ MB\n"
     ]
    }
   ],
   "source": [
    "# what columns do we have. What type. How complete is our dataset?\n",
    "df.info()"
   ]
  },
  {
   "cell_type": "code",
   "execution_count": 6,
   "metadata": {},
   "outputs": [
    {
     "data": {
      "text/plain": [
       "Accident_Index                                  object\n",
       "Location_Easting_OSGR                          float64\n",
       "Location_Northing_OSGR                         float64\n",
       "Longitude                                      float64\n",
       "Latitude                                       float64\n",
       "Police_Force                                     int64\n",
       "Accident_Severity                                int64\n",
       "Number_of_Vehicles                               int64\n",
       "Number_of_Casualties                             int64\n",
       "Date                                            object\n",
       "Day_of_Week                                      int64\n",
       "Time                                            object\n",
       "Local_Authority_(District)                       int64\n",
       "Local_Authority_(Highway)                       object\n",
       "1st_Road_Class                                   int64\n",
       "1st_Road_Number                                  int64\n",
       "Road_Type                                       object\n",
       "Speed_limit                                      int64\n",
       "Junction_Detail                                float64\n",
       "Junction_Control                                object\n",
       "2nd_Road_Class                                   int64\n",
       "2nd_Road_Number                                  int64\n",
       "Pedestrian_Crossing-Human_Control               object\n",
       "Pedestrian_Crossing-Physical_Facilities         object\n",
       "Light_Conditions                                object\n",
       "Weather_Conditions                              object\n",
       "Road_Surface_Conditions                         object\n",
       "Special_Conditions_at_Site                      object\n",
       "Carriageway_Hazards                             object\n",
       "Urban_or_Rural_Area                              int64\n",
       "Did_Police_Officer_Attend_Scene_of_Accident     object\n",
       "LSOA_of_Accident_Location                       object\n",
       "Year                                             int64\n",
       "dtype: object"
      ]
     },
     "execution_count": 6,
     "metadata": {},
     "output_type": "execute_result"
    }
   ],
   "source": [
    "# An alternative way to check datatypes. df.info() seems to have covered this though.\n",
    "df.dtypes"
   ]
  },
  {
   "cell_type": "code",
   "execution_count": 7,
   "metadata": {
    "scrolled": true
   },
   "outputs": [
    {
     "data": {
      "text/html": [
       "<div>\n",
       "<style scoped>\n",
       "    .dataframe tbody tr th:only-of-type {\n",
       "        vertical-align: middle;\n",
       "    }\n",
       "\n",
       "    .dataframe tbody tr th {\n",
       "        vertical-align: top;\n",
       "    }\n",
       "\n",
       "    .dataframe thead th {\n",
       "        text-align: right;\n",
       "    }\n",
       "</style>\n",
       "<table border=\"1\" class=\"dataframe\">\n",
       "  <thead>\n",
       "    <tr style=\"text-align: right;\">\n",
       "      <th></th>\n",
       "      <th>Location_Easting_OSGR</th>\n",
       "      <th>Location_Northing_OSGR</th>\n",
       "      <th>Longitude</th>\n",
       "      <th>Latitude</th>\n",
       "      <th>Police_Force</th>\n",
       "      <th>Accident_Severity</th>\n",
       "      <th>Number_of_Vehicles</th>\n",
       "      <th>Number_of_Casualties</th>\n",
       "      <th>Day_of_Week</th>\n",
       "      <th>Local_Authority_(District)</th>\n",
       "      <th>1st_Road_Class</th>\n",
       "      <th>1st_Road_Number</th>\n",
       "      <th>Speed_limit</th>\n",
       "      <th>Junction_Detail</th>\n",
       "      <th>2nd_Road_Class</th>\n",
       "      <th>2nd_Road_Number</th>\n",
       "      <th>Urban_or_Rural_Area</th>\n",
       "      <th>Year</th>\n",
       "    </tr>\n",
       "  </thead>\n",
       "  <tbody>\n",
       "    <tr>\n",
       "      <th>count</th>\n",
       "      <td>569910.000000</td>\n",
       "      <td>5.699100e+05</td>\n",
       "      <td>569910.000000</td>\n",
       "      <td>569910.000000</td>\n",
       "      <td>570011.000000</td>\n",
       "      <td>570011.000000</td>\n",
       "      <td>570011.000000</td>\n",
       "      <td>570011.000000</td>\n",
       "      <td>570011.000000</td>\n",
       "      <td>570011.000000</td>\n",
       "      <td>570011.000000</td>\n",
       "      <td>570011.000000</td>\n",
       "      <td>570011.000000</td>\n",
       "      <td>0.0</td>\n",
       "      <td>570011.000000</td>\n",
       "      <td>570011.000000</td>\n",
       "      <td>570011.000000</td>\n",
       "      <td>570011.000000</td>\n",
       "    </tr>\n",
       "    <tr>\n",
       "      <th>mean</th>\n",
       "      <td>435609.680423</td>\n",
       "      <td>3.017252e+05</td>\n",
       "      <td>-1.494988</td>\n",
       "      <td>52.603655</td>\n",
       "      <td>31.205219</td>\n",
       "      <td>2.839647</td>\n",
       "      <td>1.840773</td>\n",
       "      <td>1.363484</td>\n",
       "      <td>4.124371</td>\n",
       "      <td>358.870490</td>\n",
       "      <td>4.107094</td>\n",
       "      <td>1001.977992</td>\n",
       "      <td>39.788329</td>\n",
       "      <td>NaN</td>\n",
       "      <td>2.588634</td>\n",
       "      <td>379.357298</td>\n",
       "      <td>1.367330</td>\n",
       "      <td>2005.970843</td>\n",
       "    </tr>\n",
       "    <tr>\n",
       "      <th>std</th>\n",
       "      <td>95639.717128</td>\n",
       "      <td>1.613470e+05</td>\n",
       "      <td>1.406187</td>\n",
       "      <td>1.452752</td>\n",
       "      <td>25.516761</td>\n",
       "      <td>0.405771</td>\n",
       "      <td>0.722930</td>\n",
       "      <td>0.823950</td>\n",
       "      <td>1.932537</td>\n",
       "      <td>258.233842</td>\n",
       "      <td>1.446774</td>\n",
       "      <td>1832.143128</td>\n",
       "      <td>14.474087</td>\n",
       "      <td>NaN</td>\n",
       "      <td>3.221140</td>\n",
       "      <td>1306.844752</td>\n",
       "      <td>0.482558</td>\n",
       "      <td>0.816882</td>\n",
       "    </tr>\n",
       "    <tr>\n",
       "      <th>min</th>\n",
       "      <td>64980.000000</td>\n",
       "      <td>1.052000e+04</td>\n",
       "      <td>-7.515933</td>\n",
       "      <td>49.914513</td>\n",
       "      <td>1.000000</td>\n",
       "      <td>1.000000</td>\n",
       "      <td>1.000000</td>\n",
       "      <td>1.000000</td>\n",
       "      <td>1.000000</td>\n",
       "      <td>1.000000</td>\n",
       "      <td>1.000000</td>\n",
       "      <td>-1.000000</td>\n",
       "      <td>10.000000</td>\n",
       "      <td>NaN</td>\n",
       "      <td>-1.000000</td>\n",
       "      <td>-1.000000</td>\n",
       "      <td>1.000000</td>\n",
       "      <td>2005.000000</td>\n",
       "    </tr>\n",
       "    <tr>\n",
       "      <th>25%</th>\n",
       "      <td>371020.000000</td>\n",
       "      <td>1.787400e+05</td>\n",
       "      <td>-2.434639</td>\n",
       "      <td>51.494892</td>\n",
       "      <td>7.000000</td>\n",
       "      <td>3.000000</td>\n",
       "      <td>1.000000</td>\n",
       "      <td>1.000000</td>\n",
       "      <td>2.000000</td>\n",
       "      <td>126.000000</td>\n",
       "      <td>3.000000</td>\n",
       "      <td>0.000000</td>\n",
       "      <td>30.000000</td>\n",
       "      <td>NaN</td>\n",
       "      <td>-1.000000</td>\n",
       "      <td>0.000000</td>\n",
       "      <td>1.000000</td>\n",
       "      <td>2005.000000</td>\n",
       "    </tr>\n",
       "    <tr>\n",
       "      <th>50%</th>\n",
       "      <td>435490.000000</td>\n",
       "      <td>2.773850e+05</td>\n",
       "      <td>-1.470388</td>\n",
       "      <td>52.388312</td>\n",
       "      <td>31.000000</td>\n",
       "      <td>3.000000</td>\n",
       "      <td>2.000000</td>\n",
       "      <td>1.000000</td>\n",
       "      <td>4.000000</td>\n",
       "      <td>340.000000</td>\n",
       "      <td>4.000000</td>\n",
       "      <td>112.000000</td>\n",
       "      <td>30.000000</td>\n",
       "      <td>NaN</td>\n",
       "      <td>3.000000</td>\n",
       "      <td>0.000000</td>\n",
       "      <td>1.000000</td>\n",
       "      <td>2006.000000</td>\n",
       "    </tr>\n",
       "    <tr>\n",
       "      <th>75%</th>\n",
       "      <td>519230.000000</td>\n",
       "      <td>3.982800e+05</td>\n",
       "      <td>-0.267764</td>\n",
       "      <td>53.480015</td>\n",
       "      <td>46.000000</td>\n",
       "      <td>3.000000</td>\n",
       "      <td>2.000000</td>\n",
       "      <td>1.000000</td>\n",
       "      <td>6.000000</td>\n",
       "      <td>536.000000</td>\n",
       "      <td>6.000000</td>\n",
       "      <td>694.000000</td>\n",
       "      <td>60.000000</td>\n",
       "      <td>NaN</td>\n",
       "      <td>6.000000</td>\n",
       "      <td>0.000000</td>\n",
       "      <td>2.000000</td>\n",
       "      <td>2007.000000</td>\n",
       "    </tr>\n",
       "    <tr>\n",
       "      <th>max</th>\n",
       "      <td>655290.000000</td>\n",
       "      <td>1.208800e+06</td>\n",
       "      <td>1.758337</td>\n",
       "      <td>60.757544</td>\n",
       "      <td>98.000000</td>\n",
       "      <td>3.000000</td>\n",
       "      <td>28.000000</td>\n",
       "      <td>68.000000</td>\n",
       "      <td>7.000000</td>\n",
       "      <td>941.000000</td>\n",
       "      <td>6.000000</td>\n",
       "      <td>9999.000000</td>\n",
       "      <td>70.000000</td>\n",
       "      <td>NaN</td>\n",
       "      <td>6.000000</td>\n",
       "      <td>9999.000000</td>\n",
       "      <td>3.000000</td>\n",
       "      <td>2007.000000</td>\n",
       "    </tr>\n",
       "  </tbody>\n",
       "</table>\n",
       "</div>"
      ],
      "text/plain": [
       "       Location_Easting_OSGR  Location_Northing_OSGR      Longitude  \\\n",
       "count          569910.000000            5.699100e+05  569910.000000   \n",
       "mean           435609.680423            3.017252e+05      -1.494988   \n",
       "std             95639.717128            1.613470e+05       1.406187   \n",
       "min             64980.000000            1.052000e+04      -7.515933   \n",
       "25%            371020.000000            1.787400e+05      -2.434639   \n",
       "50%            435490.000000            2.773850e+05      -1.470388   \n",
       "75%            519230.000000            3.982800e+05      -0.267764   \n",
       "max            655290.000000            1.208800e+06       1.758337   \n",
       "\n",
       "            Latitude   Police_Force  Accident_Severity  Number_of_Vehicles  \\\n",
       "count  569910.000000  570011.000000      570011.000000       570011.000000   \n",
       "mean       52.603655      31.205219           2.839647            1.840773   \n",
       "std         1.452752      25.516761           0.405771            0.722930   \n",
       "min        49.914513       1.000000           1.000000            1.000000   \n",
       "25%        51.494892       7.000000           3.000000            1.000000   \n",
       "50%        52.388312      31.000000           3.000000            2.000000   \n",
       "75%        53.480015      46.000000           3.000000            2.000000   \n",
       "max        60.757544      98.000000           3.000000           28.000000   \n",
       "\n",
       "       Number_of_Casualties    Day_of_Week  Local_Authority_(District)  \\\n",
       "count         570011.000000  570011.000000               570011.000000   \n",
       "mean               1.363484       4.124371                  358.870490   \n",
       "std                0.823950       1.932537                  258.233842   \n",
       "min                1.000000       1.000000                    1.000000   \n",
       "25%                1.000000       2.000000                  126.000000   \n",
       "50%                1.000000       4.000000                  340.000000   \n",
       "75%                1.000000       6.000000                  536.000000   \n",
       "max               68.000000       7.000000                  941.000000   \n",
       "\n",
       "       1st_Road_Class  1st_Road_Number    Speed_limit  Junction_Detail  \\\n",
       "count   570011.000000    570011.000000  570011.000000              0.0   \n",
       "mean         4.107094      1001.977992      39.788329              NaN   \n",
       "std          1.446774      1832.143128      14.474087              NaN   \n",
       "min          1.000000        -1.000000      10.000000              NaN   \n",
       "25%          3.000000         0.000000      30.000000              NaN   \n",
       "50%          4.000000       112.000000      30.000000              NaN   \n",
       "75%          6.000000       694.000000      60.000000              NaN   \n",
       "max          6.000000      9999.000000      70.000000              NaN   \n",
       "\n",
       "       2nd_Road_Class  2nd_Road_Number  Urban_or_Rural_Area           Year  \n",
       "count   570011.000000    570011.000000        570011.000000  570011.000000  \n",
       "mean         2.588634       379.357298             1.367330    2005.970843  \n",
       "std          3.221140      1306.844752             0.482558       0.816882  \n",
       "min         -1.000000        -1.000000             1.000000    2005.000000  \n",
       "25%         -1.000000         0.000000             1.000000    2005.000000  \n",
       "50%          3.000000         0.000000             1.000000    2006.000000  \n",
       "75%          6.000000         0.000000             2.000000    2007.000000  \n",
       "max          6.000000      9999.000000             3.000000    2007.000000  "
      ]
     },
     "execution_count": 7,
     "metadata": {},
     "output_type": "execute_result"
    }
   ],
   "source": [
    "# take a look at the numeric ranges\n",
    "df.describe()"
   ]
  },
  {
   "cell_type": "code",
   "execution_count": 8,
   "metadata": {
    "scrolled": true
   },
   "outputs": [
    {
     "data": {
      "text/html": [
       "<div>\n",
       "<style scoped>\n",
       "    .dataframe tbody tr th:only-of-type {\n",
       "        vertical-align: middle;\n",
       "    }\n",
       "\n",
       "    .dataframe tbody tr th {\n",
       "        vertical-align: top;\n",
       "    }\n",
       "\n",
       "    .dataframe thead th {\n",
       "        text-align: right;\n",
       "    }\n",
       "</style>\n",
       "<table border=\"1\" class=\"dataframe\">\n",
       "  <thead>\n",
       "    <tr style=\"text-align: right;\">\n",
       "      <th></th>\n",
       "      <th>Location_Easting_OSGR</th>\n",
       "      <th>Location_Northing_OSGR</th>\n",
       "      <th>Longitude</th>\n",
       "      <th>Latitude</th>\n",
       "      <th>Police_Force</th>\n",
       "      <th>Accident_Severity</th>\n",
       "      <th>Number_of_Vehicles</th>\n",
       "      <th>Number_of_Casualties</th>\n",
       "      <th>Day_of_Week</th>\n",
       "      <th>Local_Authority_(District)</th>\n",
       "      <th>1st_Road_Class</th>\n",
       "      <th>1st_Road_Number</th>\n",
       "      <th>Speed_limit</th>\n",
       "      <th>Junction_Detail</th>\n",
       "      <th>2nd_Road_Class</th>\n",
       "      <th>2nd_Road_Number</th>\n",
       "      <th>Urban_or_Rural_Area</th>\n",
       "      <th>Year</th>\n",
       "    </tr>\n",
       "  </thead>\n",
       "  <tbody>\n",
       "    <tr>\n",
       "      <th>mean</th>\n",
       "      <td>435609.680423</td>\n",
       "      <td>301725.190258</td>\n",
       "      <td>-1.494988</td>\n",
       "      <td>52.603655</td>\n",
       "      <td>31.205219</td>\n",
       "      <td>2.839647</td>\n",
       "      <td>1.840773</td>\n",
       "      <td>1.363484</td>\n",
       "      <td>4.124371</td>\n",
       "      <td>358.87049</td>\n",
       "      <td>4.107094</td>\n",
       "      <td>1001.977992</td>\n",
       "      <td>39.788329</td>\n",
       "      <td>NaN</td>\n",
       "      <td>2.588634</td>\n",
       "      <td>379.357298</td>\n",
       "      <td>1.36733</td>\n",
       "      <td>2005.970843</td>\n",
       "    </tr>\n",
       "    <tr>\n",
       "      <th>50%</th>\n",
       "      <td>435490.000000</td>\n",
       "      <td>277385.000000</td>\n",
       "      <td>-1.470388</td>\n",
       "      <td>52.388312</td>\n",
       "      <td>31.000000</td>\n",
       "      <td>3.000000</td>\n",
       "      <td>2.000000</td>\n",
       "      <td>1.000000</td>\n",
       "      <td>4.000000</td>\n",
       "      <td>340.00000</td>\n",
       "      <td>4.000000</td>\n",
       "      <td>112.000000</td>\n",
       "      <td>30.000000</td>\n",
       "      <td>NaN</td>\n",
       "      <td>3.000000</td>\n",
       "      <td>0.000000</td>\n",
       "      <td>1.00000</td>\n",
       "      <td>2006.000000</td>\n",
       "    </tr>\n",
       "  </tbody>\n",
       "</table>\n",
       "</div>"
      ],
      "text/plain": [
       "      Location_Easting_OSGR  Location_Northing_OSGR  Longitude   Latitude  \\\n",
       "mean          435609.680423           301725.190258  -1.494988  52.603655   \n",
       "50%           435490.000000           277385.000000  -1.470388  52.388312   \n",
       "\n",
       "      Police_Force  Accident_Severity  Number_of_Vehicles  \\\n",
       "mean     31.205219           2.839647            1.840773   \n",
       "50%      31.000000           3.000000            2.000000   \n",
       "\n",
       "      Number_of_Casualties  Day_of_Week  Local_Authority_(District)  \\\n",
       "mean              1.363484     4.124371                   358.87049   \n",
       "50%               1.000000     4.000000                   340.00000   \n",
       "\n",
       "      1st_Road_Class  1st_Road_Number  Speed_limit  Junction_Detail  \\\n",
       "mean        4.107094      1001.977992    39.788329              NaN   \n",
       "50%         4.000000       112.000000    30.000000              NaN   \n",
       "\n",
       "      2nd_Road_Class  2nd_Road_Number  Urban_or_Rural_Area         Year  \n",
       "mean        2.588634       379.357298              1.36733  2005.970843  \n",
       "50%         3.000000         0.000000              1.00000  2006.000000  "
      ]
     },
     "execution_count": 8,
     "metadata": {},
     "output_type": "execute_result"
    }
   ],
   "source": [
    "# check outliers:\n",
    "# - if mean significantly below median, we have outliers on the left of chart.\n",
    "# - if mean significantly above median, we have outliers on the right of chart.\n",
    "df.describe().loc[[\"mean\", \"50%\"], :]"
   ]
  },
  {
   "cell_type": "code",
   "execution_count": 9,
   "metadata": {},
   "outputs": [
    {
     "data": {
      "text/plain": [
       "6    93994\n",
       "4    85781\n",
       "5    85191\n",
       "3    83488\n",
       "2    80207\n",
       "7    77611\n",
       "1    63739\n",
       "Name: Day_of_Week, dtype: int64"
      ]
     },
     "execution_count": 9,
     "metadata": {},
     "output_type": "execute_result"
    }
   ],
   "source": [
    "# How many unique values for a particular column?\n",
    "df.loc[:, \"Day_of_Week\"].value_counts(dropna=False)"
   ]
  },
  {
   "cell_type": "code",
   "execution_count": 10,
   "metadata": {
    "scrolled": true
   },
   "outputs": [
    {
     "data": {
      "text/plain": [
       "30    358591\n",
       "60    101891\n",
       "40     46288\n",
       "70     44448\n",
       "50     15666\n",
       "20      3111\n",
       "10         9\n",
       "15         7\n",
       "Name: Speed_limit, dtype: int64"
      ]
     },
     "execution_count": 10,
     "metadata": {},
     "output_type": "execute_result"
    }
   ],
   "source": [
    "# How many unique values for a particular numeric column?\n",
    "df.loc[:, \"Speed_limit\"].value_counts(dropna=False)"
   ]
  },
  {
   "cell_type": "code",
   "execution_count": 11,
   "metadata": {},
   "outputs": [
    {
     "data": {
      "text/plain": [
       "E01000004    892\n",
       "E01011365    610\n",
       "E01005131    430\n",
       "E01008440    427\n",
       "E01004764    415\n",
       "E01004736    389\n",
       "E01023722    375\n",
       "E01002444    333\n",
       "E01018648    294\n",
       "E01005127    290\n",
       "E01006650    289\n",
       "E01010521    275\n",
       "E01013869    246\n",
       "E01010844    245\n",
       "E01016730    245\n",
       "E01009191    239\n",
       "E01007876    238\n",
       "E01013644    238\n",
       "E01008070    237\n",
       "E01009150    235\n",
       "E01023584    233\n",
       "E01012456    233\n",
       "E01005134    233\n",
       "E01016952    226\n",
       "E01030458    224\n",
       "E01001771    222\n",
       "E01016012    215\n",
       "E01004689    214\n",
       "E01004763    213\n",
       "E01023725    211\n",
       "            ... \n",
       "E01002655      1\n",
       "E01008319      1\n",
       "E01019649      1\n",
       "W01001279      1\n",
       "E01032275      1\n",
       "E01011631      1\n",
       "E01030788      1\n",
       "E01013983      1\n",
       "E01012828      1\n",
       "E01003143      1\n",
       "E01020419      1\n",
       "E01018285      1\n",
       "E01016880      1\n",
       "E01007264      1\n",
       "E01009919      1\n",
       "E01004607      1\n",
       "E01012159      1\n",
       "E01006410      1\n",
       "E01020718      1\n",
       "E01032072      1\n",
       "E01022515      1\n",
       "E01018659      1\n",
       "E01030882      1\n",
       "E01001270      1\n",
       "E01005881      1\n",
       "E01015096      1\n",
       "E01030913      1\n",
       "E01011173      1\n",
       "E01027230      1\n",
       "E01016759      1\n",
       "Name: LSOA_of_Accident_Location, Length: 33773, dtype: int64"
      ]
     },
     "execution_count": 11,
     "metadata": {},
     "output_type": "execute_result"
    }
   ],
   "source": [
    "df.iloc[:, 31].value_counts()"
   ]
  },
  {
   "cell_type": "code",
   "execution_count": 12,
   "metadata": {},
   "outputs": [
    {
     "data": {
      "text/plain": [
       "Yes    459311\n",
       "No     108325\n",
       "Name: Did_Police_Officer_Attend_Scene_of_Accident, dtype: int64"
      ]
     },
     "execution_count": 12,
     "metadata": {},
     "output_type": "execute_result"
    }
   ],
   "source": [
    "df.iloc[:, 30].value_counts()"
   ]
  },
  {
   "cell_type": "code",
   "execution_count": 13,
   "metadata": {},
   "outputs": [
    {
     "data": {
      "text/plain": [
       "Index(['Accident_Index', 'Location_Easting_OSGR', 'Location_Northing_OSGR',\n",
       "       'Longitude', 'Latitude', 'Police_Force', 'Accident_Severity',\n",
       "       'Number_of_Vehicles', 'Number_of_Casualties', 'Date', 'Day_of_Week',\n",
       "       'Time', 'Local_Authority_(District)', 'Local_Authority_(Highway)',\n",
       "       '1st_Road_Class', '1st_Road_Number', 'Road_Type', 'Speed_limit',\n",
       "       'Junction_Detail', 'Junction_Control', '2nd_Road_Class',\n",
       "       '2nd_Road_Number', 'Pedestrian_Crossing-Human_Control',\n",
       "       'Pedestrian_Crossing-Physical_Facilities', 'Light_Conditions',\n",
       "       'Weather_Conditions', 'Road_Surface_Conditions',\n",
       "       'Special_Conditions_at_Site', 'Carriageway_Hazards',\n",
       "       'Urban_or_Rural_Area', 'Did_Police_Officer_Attend_Scene_of_Accident',\n",
       "       'LSOA_of_Accident_Location', 'Year'],\n",
       "      dtype='object')"
      ]
     },
     "execution_count": 13,
     "metadata": {},
     "output_type": "execute_result"
    }
   ],
   "source": [
    "# What columns do we have?\n",
    "df.columns"
   ]
  },
  {
   "cell_type": "code",
   "execution_count": 14,
   "metadata": {
    "scrolled": true
   },
   "outputs": [
    {
     "data": {
      "text/html": [
       "<div>\n",
       "<style scoped>\n",
       "    .dataframe tbody tr th:only-of-type {\n",
       "        vertical-align: middle;\n",
       "    }\n",
       "\n",
       "    .dataframe tbody tr th {\n",
       "        vertical-align: top;\n",
       "    }\n",
       "\n",
       "    .dataframe thead th {\n",
       "        text-align: right;\n",
       "    }\n",
       "</style>\n",
       "<table border=\"1\" class=\"dataframe\">\n",
       "  <thead>\n",
       "    <tr style=\"text-align: right;\">\n",
       "      <th></th>\n",
       "      <th>Accident_Index</th>\n",
       "      <th>Location_Easting_OSGR</th>\n",
       "      <th>Location_Northing_OSGR</th>\n",
       "      <th>Longitude</th>\n",
       "      <th>Latitude</th>\n",
       "      <th>Police_Force</th>\n",
       "      <th>Accident_Severity</th>\n",
       "      <th>Number_of_Vehicles</th>\n",
       "      <th>Number_of_Casualties</th>\n",
       "      <th>Date</th>\n",
       "      <th>...</th>\n",
       "      <th>Pedestrian_Crossing-Physical_Facilities</th>\n",
       "      <th>Light_Conditions</th>\n",
       "      <th>Weather_Conditions</th>\n",
       "      <th>Road_Surface_Conditions</th>\n",
       "      <th>Special_Conditions_at_Site</th>\n",
       "      <th>Carriageway_Hazards</th>\n",
       "      <th>Urban_or_Rural_Area</th>\n",
       "      <th>Did_Police_Officer_Attend_Scene_of_Accident</th>\n",
       "      <th>LSOA_of_Accident_Location</th>\n",
       "      <th>Year</th>\n",
       "    </tr>\n",
       "  </thead>\n",
       "  <tbody>\n",
       "    <tr>\n",
       "      <th>0</th>\n",
       "      <td>200501BS00001</td>\n",
       "      <td>525680.0</td>\n",
       "      <td>178240.0</td>\n",
       "      <td>-0.191170</td>\n",
       "      <td>51.489096</td>\n",
       "      <td>1</td>\n",
       "      <td>2</td>\n",
       "      <td>1</td>\n",
       "      <td>1</td>\n",
       "      <td>04/01/2005</td>\n",
       "      <td>...</td>\n",
       "      <td>Zebra crossing</td>\n",
       "      <td>Daylight: Street light present</td>\n",
       "      <td>Raining without high winds</td>\n",
       "      <td>Wet/Damp</td>\n",
       "      <td>None</td>\n",
       "      <td>None</td>\n",
       "      <td>1</td>\n",
       "      <td>Yes</td>\n",
       "      <td>E01002849</td>\n",
       "      <td>2005</td>\n",
       "    </tr>\n",
       "    <tr>\n",
       "      <th>1</th>\n",
       "      <td>200501BS00002</td>\n",
       "      <td>524170.0</td>\n",
       "      <td>181650.0</td>\n",
       "      <td>-0.211708</td>\n",
       "      <td>51.520075</td>\n",
       "      <td>1</td>\n",
       "      <td>3</td>\n",
       "      <td>1</td>\n",
       "      <td>1</td>\n",
       "      <td>05/01/2005</td>\n",
       "      <td>...</td>\n",
       "      <td>Pedestrian phase at traffic signal junction</td>\n",
       "      <td>Darkness: Street lights present and lit</td>\n",
       "      <td>Fine without high winds</td>\n",
       "      <td>Dry</td>\n",
       "      <td>None</td>\n",
       "      <td>None</td>\n",
       "      <td>1</td>\n",
       "      <td>Yes</td>\n",
       "      <td>E01002909</td>\n",
       "      <td>2005</td>\n",
       "    </tr>\n",
       "    <tr>\n",
       "      <th>2</th>\n",
       "      <td>200501BS00003</td>\n",
       "      <td>524520.0</td>\n",
       "      <td>182240.0</td>\n",
       "      <td>-0.206458</td>\n",
       "      <td>51.525301</td>\n",
       "      <td>1</td>\n",
       "      <td>3</td>\n",
       "      <td>2</td>\n",
       "      <td>1</td>\n",
       "      <td>06/01/2005</td>\n",
       "      <td>...</td>\n",
       "      <td>No physical crossing within 50 meters</td>\n",
       "      <td>Darkness: Street lights present and lit</td>\n",
       "      <td>Fine without high winds</td>\n",
       "      <td>Dry</td>\n",
       "      <td>None</td>\n",
       "      <td>None</td>\n",
       "      <td>1</td>\n",
       "      <td>Yes</td>\n",
       "      <td>E01002857</td>\n",
       "      <td>2005</td>\n",
       "    </tr>\n",
       "    <tr>\n",
       "      <th>3</th>\n",
       "      <td>200501BS00004</td>\n",
       "      <td>526900.0</td>\n",
       "      <td>177530.0</td>\n",
       "      <td>-0.173862</td>\n",
       "      <td>51.482442</td>\n",
       "      <td>1</td>\n",
       "      <td>3</td>\n",
       "      <td>1</td>\n",
       "      <td>1</td>\n",
       "      <td>07/01/2005</td>\n",
       "      <td>...</td>\n",
       "      <td>No physical crossing within 50 meters</td>\n",
       "      <td>Daylight: Street light present</td>\n",
       "      <td>Fine without high winds</td>\n",
       "      <td>Dry</td>\n",
       "      <td>None</td>\n",
       "      <td>None</td>\n",
       "      <td>1</td>\n",
       "      <td>Yes</td>\n",
       "      <td>E01002840</td>\n",
       "      <td>2005</td>\n",
       "    </tr>\n",
       "    <tr>\n",
       "      <th>4</th>\n",
       "      <td>200501BS00005</td>\n",
       "      <td>528060.0</td>\n",
       "      <td>179040.0</td>\n",
       "      <td>-0.156618</td>\n",
       "      <td>51.495752</td>\n",
       "      <td>1</td>\n",
       "      <td>3</td>\n",
       "      <td>1</td>\n",
       "      <td>1</td>\n",
       "      <td>10/01/2005</td>\n",
       "      <td>...</td>\n",
       "      <td>No physical crossing within 50 meters</td>\n",
       "      <td>Darkness: Street lighting unknown</td>\n",
       "      <td>Fine without high winds</td>\n",
       "      <td>Wet/Damp</td>\n",
       "      <td>None</td>\n",
       "      <td>None</td>\n",
       "      <td>1</td>\n",
       "      <td>Yes</td>\n",
       "      <td>E01002863</td>\n",
       "      <td>2005</td>\n",
       "    </tr>\n",
       "  </tbody>\n",
       "</table>\n",
       "<p>5 rows × 33 columns</p>\n",
       "</div>"
      ],
      "text/plain": [
       "  Accident_Index  Location_Easting_OSGR  Location_Northing_OSGR  Longitude  \\\n",
       "0  200501BS00001               525680.0                178240.0  -0.191170   \n",
       "1  200501BS00002               524170.0                181650.0  -0.211708   \n",
       "2  200501BS00003               524520.0                182240.0  -0.206458   \n",
       "3  200501BS00004               526900.0                177530.0  -0.173862   \n",
       "4  200501BS00005               528060.0                179040.0  -0.156618   \n",
       "\n",
       "    Latitude  Police_Force  Accident_Severity  Number_of_Vehicles  \\\n",
       "0  51.489096             1                  2                   1   \n",
       "1  51.520075             1                  3                   1   \n",
       "2  51.525301             1                  3                   2   \n",
       "3  51.482442             1                  3                   1   \n",
       "4  51.495752             1                  3                   1   \n",
       "\n",
       "   Number_of_Casualties        Date  ...   \\\n",
       "0                     1  04/01/2005  ...    \n",
       "1                     1  05/01/2005  ...    \n",
       "2                     1  06/01/2005  ...    \n",
       "3                     1  07/01/2005  ...    \n",
       "4                     1  10/01/2005  ...    \n",
       "\n",
       "       Pedestrian_Crossing-Physical_Facilities  \\\n",
       "0                               Zebra crossing   \n",
       "1  Pedestrian phase at traffic signal junction   \n",
       "2        No physical crossing within 50 meters   \n",
       "3        No physical crossing within 50 meters   \n",
       "4        No physical crossing within 50 meters   \n",
       "\n",
       "                          Light_Conditions          Weather_Conditions  \\\n",
       "0           Daylight: Street light present  Raining without high winds   \n",
       "1  Darkness: Street lights present and lit     Fine without high winds   \n",
       "2  Darkness: Street lights present and lit     Fine without high winds   \n",
       "3           Daylight: Street light present     Fine without high winds   \n",
       "4        Darkness: Street lighting unknown     Fine without high winds   \n",
       "\n",
       "  Road_Surface_Conditions  Special_Conditions_at_Site  Carriageway_Hazards  \\\n",
       "0                Wet/Damp                        None                 None   \n",
       "1                     Dry                        None                 None   \n",
       "2                     Dry                        None                 None   \n",
       "3                     Dry                        None                 None   \n",
       "4                Wet/Damp                        None                 None   \n",
       "\n",
       "  Urban_or_Rural_Area  Did_Police_Officer_Attend_Scene_of_Accident  \\\n",
       "0                   1                                          Yes   \n",
       "1                   1                                          Yes   \n",
       "2                   1                                          Yes   \n",
       "3                   1                                          Yes   \n",
       "4                   1                                          Yes   \n",
       "\n",
       "   LSOA_of_Accident_Location  Year  \n",
       "0                  E01002849  2005  \n",
       "1                  E01002909  2005  \n",
       "2                  E01002857  2005  \n",
       "3                  E01002840  2005  \n",
       "4                  E01002863  2005  \n",
       "\n",
       "[5 rows x 33 columns]"
      ]
     },
     "execution_count": 14,
     "metadata": {},
     "output_type": "execute_result"
    }
   ],
   "source": [
    "# take a peek at top 5 rows\n",
    "df.head()"
   ]
  },
  {
   "cell_type": "code",
   "execution_count": 15,
   "metadata": {},
   "outputs": [
    {
     "data": {
      "text/html": [
       "<div>\n",
       "<style scoped>\n",
       "    .dataframe tbody tr th:only-of-type {\n",
       "        vertical-align: middle;\n",
       "    }\n",
       "\n",
       "    .dataframe tbody tr th {\n",
       "        vertical-align: top;\n",
       "    }\n",
       "\n",
       "    .dataframe thead th {\n",
       "        text-align: right;\n",
       "    }\n",
       "</style>\n",
       "<table border=\"1\" class=\"dataframe\">\n",
       "  <thead>\n",
       "    <tr style=\"text-align: right;\">\n",
       "      <th></th>\n",
       "      <th>Accident_Index</th>\n",
       "      <th>Location_Easting_OSGR</th>\n",
       "      <th>Location_Northing_OSGR</th>\n",
       "      <th>Longitude</th>\n",
       "      <th>Latitude</th>\n",
       "      <th>Police_Force</th>\n",
       "      <th>Accident_Severity</th>\n",
       "      <th>Number_of_Vehicles</th>\n",
       "      <th>Number_of_Casualties</th>\n",
       "      <th>Date</th>\n",
       "      <th>...</th>\n",
       "      <th>Pedestrian_Crossing-Physical_Facilities</th>\n",
       "      <th>Light_Conditions</th>\n",
       "      <th>Weather_Conditions</th>\n",
       "      <th>Road_Surface_Conditions</th>\n",
       "      <th>Special_Conditions_at_Site</th>\n",
       "      <th>Carriageway_Hazards</th>\n",
       "      <th>Urban_or_Rural_Area</th>\n",
       "      <th>Did_Police_Officer_Attend_Scene_of_Accident</th>\n",
       "      <th>LSOA_of_Accident_Location</th>\n",
       "      <th>Year</th>\n",
       "    </tr>\n",
       "  </thead>\n",
       "  <tbody>\n",
       "    <tr>\n",
       "      <th>570006</th>\n",
       "      <td>2.01E+12</td>\n",
       "      <td>322650.0</td>\n",
       "      <td>566300.0</td>\n",
       "      <td>-3.210294</td>\n",
       "      <td>54.985289</td>\n",
       "      <td>98</td>\n",
       "      <td>3</td>\n",
       "      <td>1</td>\n",
       "      <td>1</td>\n",
       "      <td>20/12/2007</td>\n",
       "      <td>...</td>\n",
       "      <td>No physical crossing within 50 meters</td>\n",
       "      <td>Darkeness: No street lighting</td>\n",
       "      <td>Other</td>\n",
       "      <td>Frost/Ice</td>\n",
       "      <td>None</td>\n",
       "      <td>None</td>\n",
       "      <td>2</td>\n",
       "      <td>Yes</td>\n",
       "      <td>NaN</td>\n",
       "      <td>2007</td>\n",
       "    </tr>\n",
       "    <tr>\n",
       "      <th>570007</th>\n",
       "      <td>2.01E+12</td>\n",
       "      <td>323710.0</td>\n",
       "      <td>566150.0</td>\n",
       "      <td>-3.193693</td>\n",
       "      <td>54.984105</td>\n",
       "      <td>98</td>\n",
       "      <td>2</td>\n",
       "      <td>1</td>\n",
       "      <td>2</td>\n",
       "      <td>21/12/2007</td>\n",
       "      <td>...</td>\n",
       "      <td>No physical crossing within 50 meters</td>\n",
       "      <td>Daylight: Street light present</td>\n",
       "      <td>Other</td>\n",
       "      <td>Frost/Ice</td>\n",
       "      <td>None</td>\n",
       "      <td>None</td>\n",
       "      <td>2</td>\n",
       "      <td>Yes</td>\n",
       "      <td>NaN</td>\n",
       "      <td>2007</td>\n",
       "    </tr>\n",
       "    <tr>\n",
       "      <th>570008</th>\n",
       "      <td>2.01E+12</td>\n",
       "      <td>336900.0</td>\n",
       "      <td>586230.0</td>\n",
       "      <td>-2.992068</td>\n",
       "      <td>55.166369</td>\n",
       "      <td>98</td>\n",
       "      <td>3</td>\n",
       "      <td>1</td>\n",
       "      <td>1</td>\n",
       "      <td>23/12/2007</td>\n",
       "      <td>...</td>\n",
       "      <td>No physical crossing within 50 meters</td>\n",
       "      <td>Darkeness: No street lighting</td>\n",
       "      <td>Fog or mist</td>\n",
       "      <td>Frost/Ice</td>\n",
       "      <td>None</td>\n",
       "      <td>None</td>\n",
       "      <td>2</td>\n",
       "      <td>Yes</td>\n",
       "      <td>NaN</td>\n",
       "      <td>2007</td>\n",
       "    </tr>\n",
       "    <tr>\n",
       "      <th>570009</th>\n",
       "      <td>2.01E+12</td>\n",
       "      <td>332390.0</td>\n",
       "      <td>567240.0</td>\n",
       "      <td>-3.058338</td>\n",
       "      <td>54.995154</td>\n",
       "      <td>98</td>\n",
       "      <td>3</td>\n",
       "      <td>1</td>\n",
       "      <td>1</td>\n",
       "      <td>23/12/2007</td>\n",
       "      <td>...</td>\n",
       "      <td>No physical crossing within 50 meters</td>\n",
       "      <td>Darkness: Street lights present and lit</td>\n",
       "      <td>Fine without high winds</td>\n",
       "      <td>Wet/Damp</td>\n",
       "      <td>None</td>\n",
       "      <td>None</td>\n",
       "      <td>2</td>\n",
       "      <td>No</td>\n",
       "      <td>NaN</td>\n",
       "      <td>2007</td>\n",
       "    </tr>\n",
       "    <tr>\n",
       "      <th>570010</th>\n",
       "      <td>2.01E+12</td>\n",
       "      <td>314040.0</td>\n",
       "      <td>579740.0</td>\n",
       "      <td>-3.348857</td>\n",
       "      <td>55.104618</td>\n",
       "      <td>98</td>\n",
       "      <td>2</td>\n",
       "      <td>2</td>\n",
       "      <td>2</td>\n",
       "      <td>22/12/2007</td>\n",
       "      <td>...</td>\n",
       "      <td>No physical crossing within 50 meters</td>\n",
       "      <td>Daylight: Street light present</td>\n",
       "      <td>Raining without high winds</td>\n",
       "      <td>Frost/Ice</td>\n",
       "      <td>None</td>\n",
       "      <td>None</td>\n",
       "      <td>2</td>\n",
       "      <td>Yes</td>\n",
       "      <td>NaN</td>\n",
       "      <td>2007</td>\n",
       "    </tr>\n",
       "  </tbody>\n",
       "</table>\n",
       "<p>5 rows × 33 columns</p>\n",
       "</div>"
      ],
      "text/plain": [
       "       Accident_Index  Location_Easting_OSGR  Location_Northing_OSGR  \\\n",
       "570006       2.01E+12               322650.0                566300.0   \n",
       "570007       2.01E+12               323710.0                566150.0   \n",
       "570008       2.01E+12               336900.0                586230.0   \n",
       "570009       2.01E+12               332390.0                567240.0   \n",
       "570010       2.01E+12               314040.0                579740.0   \n",
       "\n",
       "        Longitude   Latitude  Police_Force  Accident_Severity  \\\n",
       "570006  -3.210294  54.985289            98                  3   \n",
       "570007  -3.193693  54.984105            98                  2   \n",
       "570008  -2.992068  55.166369            98                  3   \n",
       "570009  -3.058338  54.995154            98                  3   \n",
       "570010  -3.348857  55.104618            98                  2   \n",
       "\n",
       "        Number_of_Vehicles  Number_of_Casualties        Date  ...   \\\n",
       "570006                   1                     1  20/12/2007  ...    \n",
       "570007                   1                     2  21/12/2007  ...    \n",
       "570008                   1                     1  23/12/2007  ...    \n",
       "570009                   1                     1  23/12/2007  ...    \n",
       "570010                   2                     2  22/12/2007  ...    \n",
       "\n",
       "        Pedestrian_Crossing-Physical_Facilities  \\\n",
       "570006    No physical crossing within 50 meters   \n",
       "570007    No physical crossing within 50 meters   \n",
       "570008    No physical crossing within 50 meters   \n",
       "570009    No physical crossing within 50 meters   \n",
       "570010    No physical crossing within 50 meters   \n",
       "\n",
       "                               Light_Conditions          Weather_Conditions  \\\n",
       "570006            Darkeness: No street lighting                       Other   \n",
       "570007           Daylight: Street light present                       Other   \n",
       "570008            Darkeness: No street lighting                 Fog or mist   \n",
       "570009  Darkness: Street lights present and lit     Fine without high winds   \n",
       "570010           Daylight: Street light present  Raining without high winds   \n",
       "\n",
       "       Road_Surface_Conditions  Special_Conditions_at_Site  \\\n",
       "570006               Frost/Ice                        None   \n",
       "570007               Frost/Ice                        None   \n",
       "570008               Frost/Ice                        None   \n",
       "570009                Wet/Damp                        None   \n",
       "570010               Frost/Ice                        None   \n",
       "\n",
       "        Carriageway_Hazards Urban_or_Rural_Area  \\\n",
       "570006                 None                   2   \n",
       "570007                 None                   2   \n",
       "570008                 None                   2   \n",
       "570009                 None                   2   \n",
       "570010                 None                   2   \n",
       "\n",
       "        Did_Police_Officer_Attend_Scene_of_Accident  \\\n",
       "570006                                          Yes   \n",
       "570007                                          Yes   \n",
       "570008                                          Yes   \n",
       "570009                                           No   \n",
       "570010                                          Yes   \n",
       "\n",
       "        LSOA_of_Accident_Location  Year  \n",
       "570006                        NaN  2007  \n",
       "570007                        NaN  2007  \n",
       "570008                        NaN  2007  \n",
       "570009                        NaN  2007  \n",
       "570010                        NaN  2007  \n",
       "\n",
       "[5 rows x 33 columns]"
      ]
     },
     "execution_count": 15,
     "metadata": {},
     "output_type": "execute_result"
    }
   ],
   "source": [
    "# take a peek at last 5 rows\n",
    "df.tail()"
   ]
  },
  {
   "cell_type": "code",
   "execution_count": 16,
   "metadata": {},
   "outputs": [
    {
     "data": {
      "image/png": "[encoded data removed]",
      "text/plain": [
       "<matplotlib.figure.Figure at 0x11943d668>"
      ]
     },
     "metadata": {},
     "output_type": "display_data"
    }
   ],
   "source": [
    "df.loc[:, \"Speed_limit\"].plot(\"hist\")\n",
    "plt.show()"
   ]
  },
  {
   "cell_type": "code",
   "execution_count": 17,
   "metadata": {},
   "outputs": [
    {
     "data": {
      "image/png": "[encoded data removed]",
      "text/plain": [
       "<matplotlib.figure.Figure at 0x10a875e48>"
      ]
     },
     "metadata": {},
     "output_type": "display_data"
    }
   ],
   "source": [
    "# the typical number of casualties is below 10\n",
    "#  - which makes sense as most car contains up to 5 people, and usually 2 cars per accidents\n",
    "df.loc[:, \"Number_of_Casualties\"].plot(\"hist\")\n",
    "plt.show()"
   ]
  },
  {
   "cell_type": "code",
   "execution_count": 18,
   "metadata": {},
   "outputs": [
    {
     "data": {
      "image/png": "[encoded data removed]",
      "text/plain": [
       "<matplotlib.figure.Figure at 0x10a976978>"
      ]
     },
     "metadata": {},
     "output_type": "display_data"
    }
   ],
   "source": [
    "# Let's hunt down some outlier. We have accdients with more than 60 casualties?\n",
    "df.loc[df.loc[:, \"Number_of_Casualties\"] > 60, \"Number_of_Casualties\"].plot(\"hist\")\n",
    "plt.show()"
   ]
  },
  {
   "cell_type": "code",
   "execution_count": 19,
   "metadata": {},
   "outputs": [
    {
     "data": {
      "text/html": [
       "<div>\n",
       "<style scoped>\n",
       "    .dataframe tbody tr th:only-of-type {\n",
       "        vertical-align: middle;\n",
       "    }\n",
       "\n",
       "    .dataframe tbody tr th {\n",
       "        vertical-align: top;\n",
       "    }\n",
       "\n",
       "    .dataframe thead th {\n",
       "        text-align: right;\n",
       "    }\n",
       "</style>\n",
       "<table border=\"1\" class=\"dataframe\">\n",
       "  <thead>\n",
       "    <tr style=\"text-align: right;\">\n",
       "      <th></th>\n",
       "      <th>Accident_Index</th>\n",
       "      <th>Number_of_Casualties</th>\n",
       "    </tr>\n",
       "  </thead>\n",
       "  <tbody>\n",
       "    <tr>\n",
       "      <th>505876</th>\n",
       "      <td>200743N002017</td>\n",
       "      <td>68</td>\n",
       "    </tr>\n",
       "  </tbody>\n",
       "</table>\n",
       "</div>"
      ],
      "text/plain": [
       "       Accident_Index  Number_of_Casualties\n",
       "505876  200743N002017                    68"
      ]
     },
     "execution_count": 19,
     "metadata": {},
     "output_type": "execute_result"
    }
   ],
   "source": [
    "# take a peek - accident 200743N002017: 1 vehical, 68 casualties. This could be a coach.\n",
    "df.loc[df.loc[:, \"Number_of_Casualties\"] > 60, [\"Accident_Index\", \"Number_of_Casualties\"]]"
   ]
  },
  {
   "cell_type": "code",
   "execution_count": 20,
   "metadata": {},
   "outputs": [
    {
     "data": {
      "text/html": [
       "<div>\n",
       "<style scoped>\n",
       "    .dataframe tbody tr th:only-of-type {\n",
       "        vertical-align: middle;\n",
       "    }\n",
       "\n",
       "    .dataframe tbody tr th {\n",
       "        vertical-align: top;\n",
       "    }\n",
       "\n",
       "    .dataframe thead th {\n",
       "        text-align: right;\n",
       "    }\n",
       "</style>\n",
       "<table border=\"1\" class=\"dataframe\">\n",
       "  <thead>\n",
       "    <tr style=\"text-align: right;\">\n",
       "      <th></th>\n",
       "      <th>Accident_Index</th>\n",
       "      <th>Location_Easting_OSGR</th>\n",
       "      <th>Location_Northing_OSGR</th>\n",
       "      <th>Longitude</th>\n",
       "      <th>Latitude</th>\n",
       "      <th>Police_Force</th>\n",
       "      <th>Accident_Severity</th>\n",
       "      <th>Number_of_Vehicles</th>\n",
       "      <th>Number_of_Casualties</th>\n",
       "      <th>Date</th>\n",
       "      <th>...</th>\n",
       "      <th>Pedestrian_Crossing-Physical_Facilities</th>\n",
       "      <th>Light_Conditions</th>\n",
       "      <th>Weather_Conditions</th>\n",
       "      <th>Road_Surface_Conditions</th>\n",
       "      <th>Special_Conditions_at_Site</th>\n",
       "      <th>Carriageway_Hazards</th>\n",
       "      <th>Urban_or_Rural_Area</th>\n",
       "      <th>Did_Police_Officer_Attend_Scene_of_Accident</th>\n",
       "      <th>LSOA_of_Accident_Location</th>\n",
       "      <th>Year</th>\n",
       "    </tr>\n",
       "  </thead>\n",
       "  <tbody>\n",
       "    <tr>\n",
       "      <th>505876</th>\n",
       "      <td>200743N002017</td>\n",
       "      <td>504450.0</td>\n",
       "      <td>178700.0</td>\n",
       "      <td>-0.496697</td>\n",
       "      <td>51.497547</td>\n",
       "      <td>43</td>\n",
       "      <td>1</td>\n",
       "      <td>1</td>\n",
       "      <td>68</td>\n",
       "      <td>03/01/2007</td>\n",
       "      <td>...</td>\n",
       "      <td>No physical crossing within 50 meters</td>\n",
       "      <td>Darkness: Street lights present and lit</td>\n",
       "      <td>Raining without high winds</td>\n",
       "      <td>Wet/Damp</td>\n",
       "      <td>None</td>\n",
       "      <td>None</td>\n",
       "      <td>2</td>\n",
       "      <td>Yes</td>\n",
       "      <td>E01017829</td>\n",
       "      <td>2007</td>\n",
       "    </tr>\n",
       "  </tbody>\n",
       "</table>\n",
       "<p>1 rows × 33 columns</p>\n",
       "</div>"
      ],
      "text/plain": [
       "       Accident_Index  Location_Easting_OSGR  Location_Northing_OSGR  \\\n",
       "505876  200743N002017               504450.0                178700.0   \n",
       "\n",
       "        Longitude   Latitude  Police_Force  Accident_Severity  \\\n",
       "505876  -0.496697  51.497547            43                  1   \n",
       "\n",
       "        Number_of_Vehicles  Number_of_Casualties        Date  ...   \\\n",
       "505876                   1                    68  03/01/2007  ...    \n",
       "\n",
       "        Pedestrian_Crossing-Physical_Facilities  \\\n",
       "505876    No physical crossing within 50 meters   \n",
       "\n",
       "                               Light_Conditions          Weather_Conditions  \\\n",
       "505876  Darkness: Street lights present and lit  Raining without high winds   \n",
       "\n",
       "       Road_Surface_Conditions  Special_Conditions_at_Site  \\\n",
       "505876                Wet/Damp                        None   \n",
       "\n",
       "        Carriageway_Hazards Urban_or_Rural_Area  \\\n",
       "505876                 None                   2   \n",
       "\n",
       "        Did_Police_Officer_Attend_Scene_of_Accident  \\\n",
       "505876                                          Yes   \n",
       "\n",
       "        LSOA_of_Accident_Location  Year  \n",
       "505876                  E01017829  2007  \n",
       "\n",
       "[1 rows x 33 columns]"
      ]
     },
     "execution_count": 20,
     "metadata": {},
     "output_type": "execute_result"
    }
   ],
   "source": [
    "# See more columns\n",
    "df.loc[df.loc[:, \"Number_of_Casualties\"] > 60, :]"
   ]
  },
  {
   "cell_type": "markdown",
   "metadata": {},
   "source": [
    "Also take a look at this [BBC app](http://www.bbc.co.uk/news/uk-15975720)"
   ]
  },
  {
   "cell_type": "code",
   "execution_count": 21,
   "metadata": {},
   "outputs": [
    {
     "data": {
      "text/plain": [
       "<matplotlib.axes._subplots.AxesSubplot at 0x10a97aa90>"
      ]
     },
     "execution_count": 21,
     "metadata": {},
     "output_type": "execute_result"
    },
    {
     "data": {
      "image/png": "[encoded data removed]",
      "text/plain": [
       "<matplotlib.figure.Figure at 0x10a992518>"
      ]
     },
     "metadata": {},
     "output_type": "display_data"
    }
   ],
   "source": [
    "# Box plot! We expect to see on average (within 25-75 percentile range box), \n",
    "# more vehicles = more casualties (the boxes)\n",
    "# all the dots are outliers\n",
    "df.boxplot(column=\"Number_of_Casualties\", by=\"Number_of_Vehicles\")"
   ]
  },
  {
   "cell_type": "code",
   "execution_count": 22,
   "metadata": {},
   "outputs": [
    {
     "data": {
      "image/png": "[encoded data removed]",
      "text/plain": [
       "<matplotlib.figure.Figure at 0x11d13ce10>"
      ]
     },
     "metadata": {},
     "output_type": "display_data"
    }
   ],
   "source": [
    "# Scatter plot! We expect to see on average, more vehicles = more casualties (the boxes)\n",
    "# all the dots are outliers\n",
    "df.plot.scatter(x=\"Number_of_Vehicles\", y=\"Number_of_Casualties\")\n",
    "plt.show()"
   ]
  },
  {
   "cell_type": "markdown",
   "metadata": {},
   "source": [
    "More info on plot: https://pandas.pydata.org/pandas-docs/stable/generated/pandas.DataFrame.plot.html\n",
    "\n",
    "```\n",
    "df.plot(kind=\"...\")\n",
    "```"
   ]
  },
  {
   "cell_type": "markdown",
   "metadata": {},
   "source": [
    "Note: use scatter vs boxplot accordingly:\n",
    "\n",
    "- when x = numeric, y = numeric, use scatter\n",
    "- when x = categorial, y = numeric, use boxplot"
   ]
  },
  {
   "cell_type": "markdown",
   "metadata": {},
   "source": [
    "What if we have outlier?\n",
    "\n",
    "- df <- keep everything\n",
    "- df_subset <- df but with outliers removed"
   ]
  },
  {
   "cell_type": "code",
   "execution_count": 23,
   "metadata": {},
   "outputs": [
    {
     "data": {
      "text/plain": [
       "pandas.core.series.Series"
      ]
     },
     "execution_count": 23,
     "metadata": {},
     "output_type": "execute_result"
    }
   ],
   "source": [
    "# Recall: single bracket pair returns a Pandas Series\n",
    "type(df.loc[:, \"Number_of_Casualties\"])"
   ]
  },
  {
   "cell_type": "code",
   "execution_count": 25,
   "metadata": {},
   "outputs": [
    {
     "data": {
      "text/plain": [
       "pandas.core.frame.DataFrame"
      ]
     },
     "execution_count": 25,
     "metadata": {},
     "output_type": "execute_result"
    }
   ],
   "source": [
    "# Recall: double bracket pair returns a Pandas DataFramne\n",
    "type(df.loc[:, [\"Number_of_Casualties\"]])"
   ]
  },
  {
   "cell_type": "code",
   "execution_count": 26,
   "metadata": {},
   "outputs": [
    {
     "data": {
      "text/plain": [
       "pandas.core.frame.DataFrame"
      ]
     },
     "execution_count": 26,
     "metadata": {},
     "output_type": "execute_result"
    }
   ],
   "source": [
    "# Recall: double bracket pair returns a Pandas DataFramne - multi columns this time\n",
    "type(df.loc[:, [\"Number_of_Casualties\", \"Number_of_Vehicles\"]])"
   ]
  },
  {
   "cell_type": "code",
   "execution_count": null,
   "metadata": {},
   "outputs": [],
   "source": []
  }
 ],
 "metadata": {
  "kernelspec": {
   "display_name": "Python 3",
   "language": "python",
   "name": "python3"
  },
  "language_info": {
   "codemirror_mode": {
    "name": "ipython",
    "version": 3
   },
   "file_extension": ".py",
   "mimetype": "text/x-python",
   "name": "python",
   "nbconvert_exporter": "python",
   "pygments_lexer": "ipython3",
   "version": "3.6.3"
  }
 },
 "nbformat": 4,
 "nbformat_minor": 2
}
