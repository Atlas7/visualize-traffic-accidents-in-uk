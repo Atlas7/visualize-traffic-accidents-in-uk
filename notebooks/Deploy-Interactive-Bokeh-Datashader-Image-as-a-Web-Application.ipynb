{
 "cells": [
  {
   "cell_type": "markdown",
   "metadata": {},
   "source": [
    "# Deploy Interactive Bokeh-Datashader Image as a Web Application\n",
    "\n",
    "by [Johnny Chan](https://github.com/Atlas7) | [GitHub Repo](https://github.com/Atlas7/visualize-traffic-accidents-in-uk) | [MIT Licence](https://github.com/Atlas7/visualize-traffic-accidents-in-uk/blob/master/LICENSE)"
   ]
  },
  {
   "cell_type": "markdown",
   "metadata": {},
   "source": [
    "![datashader-uk-traffic-banner.jpg](../assets/images/datashader-uk-traffic-banner-2.jpg)"
   ]
  },
  {
   "cell_type": "markdown",
   "metadata": {},
   "source": [
    "In our previous notebook [Visualize Traffic Accidents in UK by Road Types with Bokeh Datashader](https://nbviewer.jupyter.org/github/Atlas7/visualize-traffic-accidents-in-uk/blob/master/notebooks/Visualize-Traffic-Accidents-in-UK-by-Road-Types-With-Bokeh-Datashader.ipynb), we successfully created an Interactive Bokeh-Datashader image with zoom/pan dynamic aggregation and rendering working within a Jupyter Notbeook environment. What if we want to deploy it as a web applcation? i.e. so anyone can play with the Interactive Image without the need of a Jupyter Notebook?\n",
    "\n",
    "This notebook aims to explore options for this. My aim is to be able to deploy the Interactive Image as a web application, accessible on the Internet via a URL."
   ]
  },
  {
   "cell_type": "markdown",
   "metadata": {},
   "source": [
    "## Research\n",
    "\n",
    "Here are some articles I've stumbled across while performing google searches, along with some thoughts:\n",
    "\n",
    "**[How to save InteractiveImage in a html file #193](https://github.com/bokeh/datashader/issues/193)**: currently our notebook uses `output_notebook` to display bokeh plots inline within the Jupyter notebook. My first brainstorm approach would be to replace this to use `output_file` and store the output as a `.html` file instead. As it turns out from this Github thread, (with our today's browser technolgoeis) it is not possible. Storing million points of data in a HTML file is simply too much. This thread also contains mention to the [census-hv example](https://anaconda.org/jbednar/census-hv-dask/notebook) on the uses of mixing Bokeh, Datashader, Holoview, and Geoview.\n",
    "\n",
    "**[Extend InteractiveImage to work with bokeh server #147](https://github.com/bokeh/datashader/issues/147)**: Bokeh server (as of time of the thread) [an effort is currently in progress on integrating Bokeh-server with Holoview](https://github.com/ioam/holoviews/pull/959) which integrates with Datashader well). i.e. Holoview appears to be a realistic \"glue\" between Bokeh-server and Datashader.\n",
    "\n",
    "**[Bokeh server support #959](https://github.com/ioam/holoviews/pull/959)**: Adds support for deploying any holoviews object as a bokeh server app. This thread contains a sample code that uses Holoview (and its modules that perform integration with Datashader, and Bokeh). So it looks like if we can get our example running with Holoview, we may be able to embed our Holoview object as a bokeh server app later.\n",
    "\n",
    "**[Jupyter Dashboards - Layout Extension](https://github.com/jupyter/dashboards)**: from the Github repo: \"The dashboards layout extension is an add-on for Jupyter Notebook. It lets you arrange your notebook outputs (text, plots, widgets, ...) in grid- or report-like layouts. It saves information about your layouts in your notebook document. Other people with the extension can open your notebook and view your layouts.\". Though this may not be our solution (as \"other people\" will still be required to install stuff), it's worth looking into later.\n",
    "\n",
    "**[Bokeh Gallery](https://bokeh.pydata.org/en/latest/docs/gallery.html)**: contains a list of live web app demos built with Bokeh-server, along with source codes. I haven't seen an example relating to Datashader (yet), though.\n",
    "\n",
    "**[The Mandlebrot Set Logo](https://nbviewer.jupyter.org/github/jlstevens/website-notebooks/blob/master/Introducing_HoloViews.ipynb)**: a notebook by [@jlstevens](https://github.com/jlstevens). There is a holoview example with an interactive slide-bar widget, that is working view nbviewer. I wonder if we could render our datashader map on nbviewer, along wtih a scroll-bar showing map summary over changing time-period? (e.g. by month/ year, etc)."
   ]
  },
  {
   "cell_type": "code",
   "execution_count": null,
   "metadata": {},
   "outputs": [],
   "source": []
  }
 ],
 "metadata": {
  "kernelspec": {
   "display_name": "Python 3",
   "language": "python",
   "name": "python3"
  },
  "language_info": {
   "codemirror_mode": {
    "name": "ipython",
    "version": 3
   },
   "file_extension": ".py",
   "mimetype": "text/x-python",
   "name": "python",
   "nbconvert_exporter": "python",
   "pygments_lexer": "ipython3",
   "version": "3.6.3"
  }
 },
 "nbformat": 4,
 "nbformat_minor": 2
}
