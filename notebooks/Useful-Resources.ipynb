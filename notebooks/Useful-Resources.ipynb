{
 "cells": [
  {
   "cell_type": "markdown",
   "metadata": {},
   "source": [
    "# Useful Resources"
   ]
  },
  {
   "cell_type": "markdown",
   "metadata": {},
   "source": [
    "### Data\n",
    "\n",
    "- https://www.kaggle.com/daveianhickey/2000-16-traffic-flow-england-scotland-wales\n",
    "\n",
    "### Visualization with datashader\n",
    "\n",
    "- https://github.com/bokeh/datashader/tree/master/examples\n",
    "\n",
    "### Geo Coordinate Systems and Mapping Projections\n",
    "\n",
    "- https://arxiv.org/pdf/1509.03700v1.pdf\n",
    "- https://www.youtube.com/watch?v=kIID5FDi2JQ"
   ]
  }
 ],
 "metadata": {
  "kernelspec": {
   "display_name": "Python 3",
   "language": "python",
   "name": "python3"
  },
  "language_info": {
   "codemirror_mode": {
    "name": "ipython",
    "version": 3
   },
   "file_extension": ".py",
   "mimetype": "text/x-python",
   "name": "python",
   "nbconvert_exporter": "python",
   "pygments_lexer": "ipython3",
   "version": "3.6.3"
  }
 },
 "nbformat": 4,
 "nbformat_minor": 2
}
